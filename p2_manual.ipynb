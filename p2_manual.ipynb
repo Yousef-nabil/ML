{
 "cells": [
  {
   "cell_type": "markdown",
   "id": "7439bdf0",
   "metadata": {},
   "source": [
    "# Manual Implementation of Problem 2 (Regression)"
   ]
  },
  {
   "cell_type": "markdown",
   "id": "7f495b71",
   "metadata": {},
   "source": [
    "## Setting up the data"
   ]
  },
  {
   "cell_type": "markdown",
   "id": "ffad0ee5",
   "metadata": {},
   "source": [
    "### Importing Libraries"
   ]
  },
  {
   "cell_type": "code",
   "execution_count": 29,
   "id": "dab383e7",
   "metadata": {},
   "outputs": [],
   "source": [
    "import pandas as pd\n",
    "import numpy as np\n",
    "import matplotlib.pyplot as plt"
   ]
  },
  {
   "cell_type": "markdown",
   "id": "3175a2b6",
   "metadata": {},
   "source": [
    "### Loading & Splitting the dataset"
   ]
  },
  {
   "cell_type": "code",
   "execution_count": 30,
   "id": "5513cb0c",
   "metadata": {},
   "outputs": [
    {
     "name": "stdout",
     "output_type": "stream",
     "text": [
      "Median_House_Value          0\n",
      "Median_Income               0\n",
      "Median_Age                  0\n",
      "Tot_Rooms                   0\n",
      "Tot_Bedrooms                0\n",
      "Population                  0\n",
      "Households                  0\n",
      "Latitude                    0\n",
      "Longitude                   0\n",
      "Distance_to_coast           0\n",
      "Distance_to_LA              0\n",
      "Distance_to_SanDiego        0\n",
      "Distance_to_SanJose         0\n",
      "Distance_to_SanFrancisco    0\n",
      "dtype: int64\n"
     ]
    }
   ],
   "source": [
    "df = pd.read_csv(\"California_Houses.csv\")\n",
    "\n",
    "df = df.sample(frac=1, random_state=42).reset_index(drop=True)\n",
    "\n",
    "print(df.isna().sum())\n",
    "\n",
    "train_data_size = int(0.7 * len(df))\n",
    "validation_data_size = int(0.15 * len(df))\n",
    "test_data_size = len(df) - train_data_size - validation_data_size\n",
    "\n",
    "train_data = df[:train_data_size]\n",
    "validation_data = df[train_data_size:train_data_size + validation_data_size]\n",
    "test_data = df[train_data_size + validation_data_size:]"
   ]
  },
  {
   "cell_type": "markdown",
   "id": "04a0d4fd",
   "metadata": {},
   "source": [
    "### Extracting features matrix & Target Vector"
   ]
  },
  {
   "cell_type": "code",
   "execution_count": 31,
   "id": "739ed9f4",
   "metadata": {},
   "outputs": [],
   "source": [
    "x = train_data.iloc[:, 1:13]\n",
    "t = train_data.iloc[:, 0]\n",
    "\n",
    "X_vectors = {}\n",
    "for col in x.columns:\n",
    "    X_vectors[col] = x[col].values.reshape(-1, 1)\n",
    "\n",
    "X = np.hstack(list(X_vectors.values()))\n",
    "T = t.values.flatten()\n",
    "\n",
    "\n",
    "X_mean = np.mean(X, axis=0)\n",
    "X_std = np.std(X, axis=0)\n",
    "X_scaled = (X - X_mean) / X_std\n",
    "\n",
    "n_samples = X.shape[0]\n",
    "X_biased = np.hstack((np.ones((n_samples, 1)), X_scaled))\n"
   ]
  },
  {
   "cell_type": "markdown",
   "id": "bc83c570",
   "metadata": {},
   "source": [
    "## Direct solution of caclulating W*"
   ]
  },
  {
   "cell_type": "markdown",
   "id": "e3a7bcea",
   "metadata": {},
   "source": [
    "$w^* = (X^{\\top} X)^{-1} (X^{\\top} T)$."
   ]
  },
  {
   "cell_type": "code",
   "execution_count": 32,
   "id": "ab114acd",
   "metadata": {},
   "outputs": [
    {
     "name": "stdout",
     "output_type": "stream",
     "text": [
      "Learned Weights: [207183.64947739  73339.23718052  11390.78283316  -9813.07726714\n",
      "  39003.27192159 -50396.58892998  25030.66297081 -91070.56192616\n",
      " -58463.20851428 -12788.39669391 -34720.70712485  68437.02098179\n",
      "   7981.2671976 ]\n"
     ]
    }
   ],
   "source": [
    "left_term = np.linalg.inv(X_biased.T @ X_biased)\n",
    "right_term = X_biased.T @ T\n",
    "W_star = left_term @ right_term\n",
    "print(\"Learned Weights:\", W_star)"
   ]
  },
  {
   "cell_type": "markdown",
   "id": "96c18c8a",
   "metadata": {},
   "source": [
    "### Error report of closed form solution"
   ]
  },
  {
   "cell_type": "code",
   "execution_count": 33,
   "id": "7cdc1658",
   "metadata": {},
   "outputs": [
    {
     "name": "stdout",
     "output_type": "stream",
     "text": [
      "Closed Form MSE on Training Data: 4660061242.647201\n",
      "Closed Form MAE on Training Data: 49736.20296263998\n"
     ]
    }
   ],
   "source": [
    "y_closed_form = X_biased @ W_star\n",
    "mse_closed_form = np.mean((T - y_closed_form) ** 2)\n",
    "print(\"Closed Form MSE on Training Data:\", mse_closed_form)\n",
    "\n",
    "mae_closed_form = np.mean(np.abs(T - y_closed_form))\n",
    "print(\"Closed Form MAE on Training Data:\", mae_closed_form)"
   ]
  },
  {
   "cell_type": "markdown",
   "id": "4256b5cd",
   "metadata": {},
   "source": [
    "## Gradient Descent"
   ]
  },
  {
   "cell_type": "code",
   "execution_count": 34,
   "id": "86ac0d21",
   "metadata": {},
   "outputs": [
    {
     "name": "stdout",
     "output_type": "stream",
     "text": [
      "Learned Weights using Gradient Descent: [207183.64947739  73339.26283801  11390.84621904  -9813.26425025\n",
      "  39004.27702662 -50396.39066188  25029.65362835 -91055.64221427\n",
      " -58467.87257439 -12788.68906468 -34718.63853906  68415.11508797\n",
      "   7980.48882297]\n"
     ]
    }
   ],
   "source": [
    "w_gradient = np.zeros(X.shape[1])\n",
    "b = 0.0\n",
    "alpha = 0.01\n",
    "N = len(T)\n",
    "max_iter = 100000\n",
    "i = 0\n",
    "\n",
    "while True:\n",
    "    y = np.dot(X_scaled, w_gradient) + b\n",
    "    dw = (1/N) * np.dot(X_scaled.T, (y - T))\n",
    "    db = (1/N) * np.sum(y - T)\n",
    "\n",
    "    temp_w = w_gradient - alpha * dw\n",
    "    temp_b = b - alpha * db\n",
    "\n",
    "    if (np.sum(np.abs(temp_w - w_gradient)) < 1e-3 and abs(temp_b - b) < 1e-3):\n",
    "        break\n",
    "\n",
    "    \n",
    "    w_gradient = temp_w\n",
    "    b = temp_b\n",
    "\n",
    "print(\"Learned Weights using Gradient Descent:\", np.hstack((b, w_gradient)))"
   ]
  },
  {
   "cell_type": "markdown",
   "id": "a6abdcc6",
   "metadata": {},
   "source": [
    "### Error report of gradient descent"
   ]
  },
  {
   "cell_type": "code",
   "execution_count": 35,
   "id": "d502d652",
   "metadata": {},
   "outputs": [
    {
     "name": "stdout",
     "output_type": "stream",
     "text": [
      "Gradient Descent MSE on Training Data: 4660061244.199259\n",
      "Gradient Descent MAE on Training Data: 49736.23549778592\n"
     ]
    }
   ],
   "source": [
    "y_gradient = np.dot(X_scaled, w_gradient) + b\n",
    "mse_gradient = np.mean((T - y_gradient) ** 2)\n",
    "print(\"Gradient Descent MSE on Training Data:\", mse_gradient)\n",
    "mae_gradient = np.mean(np.abs(T - y_gradient))\n",
    "print(\"Gradient Descent MAE on Training Data:\", mae_gradient)"
   ]
  }
 ],
 "metadata": {
  "kernelspec": {
   "display_name": "Python 3",
   "language": "python",
   "name": "python3"
  },
  "language_info": {
   "codemirror_mode": {
    "name": "ipython",
    "version": 3
   },
   "file_extension": ".py",
   "mimetype": "text/x-python",
   "name": "python",
   "nbconvert_exporter": "python",
   "pygments_lexer": "ipython3",
   "version": "3.12.6"
  }
 },
 "nbformat": 4,
 "nbformat_minor": 5
}
