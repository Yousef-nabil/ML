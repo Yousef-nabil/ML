{
 "cells": [
  {
   "cell_type": "markdown",
   "id": "7439bdf0",
   "metadata": {},
   "source": [
    "# Manual Implementation of Problem 2 (Regression)"
   ]
  },
  {
   "cell_type": "markdown",
   "id": "7f495b71",
   "metadata": {},
   "source": [
    "## Setting up the data"
   ]
  },
  {
   "cell_type": "markdown",
   "id": "ffad0ee5",
   "metadata": {},
   "source": [
    "### Importing Libraries"
   ]
  },
  {
   "cell_type": "code",
   "execution_count": 2,
   "id": "dab383e7",
   "metadata": {},
   "outputs": [],
   "source": [
    "import pandas as pd\n",
    "import numpy as np\n",
    "import matplotlib.pyplot as plt"
   ]
  },
  {
   "cell_type": "markdown",
   "id": "3175a2b6",
   "metadata": {},
   "source": [
    "### Loading & Splitting the dataset"
   ]
  },
  {
   "cell_type": "code",
   "execution_count": 3,
   "id": "5513cb0c",
   "metadata": {},
   "outputs": [],
   "source": [
    "df = pd.read_csv(\"California_Houses.csv\")\n",
    "\n",
    "df = df.sample(frac=1, random_state=42).reset_index(drop=True)\n",
    "\n",
    "train_data_size = int(0.7 * len(df))\n",
    "validation_data_size = int(0.15 * len(df))\n",
    "test_data_size = len(df) - train_data_size - validation_data_size\n",
    "\n",
    "train_data = df[:train_data_size]\n",
    "validation_data = df[train_data_size:train_data_size + validation_data_size]\n",
    "test_data = df[train_data_size + validation_data_size:]"
   ]
  },
  {
   "cell_type": "markdown",
   "id": "04a0d4fd",
   "metadata": {},
   "source": [
    "### Extracting features matrix & Target Vector"
   ]
  },
  {
   "cell_type": "code",
   "execution_count": 4,
   "id": "739ed9f4",
   "metadata": {},
   "outputs": [
    {
     "name": "stdout",
     "output_type": "stream",
     "text": [
      "[[ 1.00000000e+00  1.68120000e+00  2.50000000e+01  1.50500000e+03\n",
      "   3.67000000e+02  1.39200000e+03  3.59000000e+02  3.60600000e+01\n",
      "  -1.19010000e+02  1.81940136e+05  2.33893528e+05  4.08714567e+05\n",
      "   2.93550331e+05]\n",
      " [ 1.00000000e+00  2.53130000e+00  3.00000000e+01  2.94300000e+03\n",
      "   6.97000000e+02  1.56500000e+03  5.84000000e+02  3.51400000e+01\n",
      "  -1.19460000e+02  8.13812430e+04  1.64389285e+05  3.42981620e+05\n",
      "   3.27407281e+05]\n",
      " [ 1.00000000e+00  3.48010000e+00  5.20000000e+01  3.83000000e+03\n",
      "   1.14200000e+03  1.31000000e+03  9.63000000e+02  3.78000000e+01\n",
      "  -1.22440000e+02  5.40917690e+02  5.62389566e+05  7.40893792e+05\n",
      "   7.06538013e+04]\n",
      " [ 1.00000000e+00  5.73760000e+00  1.70000000e+01  3.05100000e+03\n",
      "   5.05000000e+02  1.70500000e+03  4.95000000e+02  3.42800000e+01\n",
      "  -1.18720000e+02  2.94347219e+04  5.06150028e+04  2.26155681e+05\n",
      "   4.44127558e+05]\n",
      " [ 1.00000000e+00  3.72500000e+00  3.40000000e+01  2.35100000e+03\n",
      "   4.40000000e+02  1.06300000e+03  4.28000000e+02  3.66200000e+01\n",
      "  -1.21930000e+02  5.39274648e+03  4.39632446e+05  6.15200335e+05\n",
      "   7.96255032e+04]]\n",
      "0     47700.0\n",
      "1     45800.0\n",
      "2    500001.0\n",
      "3    218600.0\n",
      "4    278000.0\n",
      "Name: Median_House_Value, dtype: float64\n"
     ]
    }
   ],
   "source": [
    "X = train_data.iloc[:, 1:13]\n",
    "T = train_data.iloc[:, 0]\n",
    "X_vectors = {}\n",
    "for col in X.columns:\n",
    "    X_vectors[col] = X[col].values.reshape(-1, 1)\n",
    "\n",
    "X_matrix = np.hstack(list(X_vectors.values()))\n",
    "\n",
    "n_samples = X_matrix.shape[0]\n",
    "X_matrix = np.hstack((np.ones((n_samples, 1)), X_matrix))\n",
    "\n",
    "print(X_matrix[0:5 , :])\n",
    "print(T.head())"
   ]
  },
  {
   "cell_type": "markdown",
   "id": "bc83c570",
   "metadata": {},
   "source": [
    "## Model Design and caclulating W*"
   ]
  },
  {
   "cell_type": "markdown",
   "id": "e3a7bcea",
   "metadata": {},
   "source": [
    "$w^* = (X^{\\top} X)^{-1} (X^{\\top} T)$."
   ]
  },
  {
   "cell_type": "code",
   "execution_count": 5,
   "id": "ab114acd",
   "metadata": {},
   "outputs": [],
   "source": [
    "left_term = np.linalg.inv(X_matrix.T @ X_matrix)\n",
    "right_term = X_matrix.T @ T.values\n",
    "W_star = left_term @ right_term"
   ]
  }
 ],
 "metadata": {
  "kernelspec": {
   "display_name": "Python 3",
   "language": "python",
   "name": "python3"
  },
  "language_info": {
   "codemirror_mode": {
    "name": "ipython",
    "version": 3
   },
   "file_extension": ".py",
   "mimetype": "text/x-python",
   "name": "python",
   "nbconvert_exporter": "python",
   "pygments_lexer": "ipython3",
   "version": "3.12.6"
  }
 },
 "nbformat": 4,
 "nbformat_minor": 5
}
