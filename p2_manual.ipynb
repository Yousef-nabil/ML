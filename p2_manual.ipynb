{
 "cells": [
  {
   "cell_type": "markdown",
   "id": "7439bdf0",
   "metadata": {},
   "source": [
    "# Manual Implementation of Problem 2 (Regression)"
   ]
  },
  {
   "cell_type": "markdown",
   "id": "7f495b71",
   "metadata": {},
   "source": [
    "## Setting up the data"
   ]
  },
  {
   "cell_type": "markdown",
   "id": "ffad0ee5",
   "metadata": {},
   "source": [
    "### Importing Libraries"
   ]
  },
  {
   "cell_type": "code",
   "execution_count": 13,
   "id": "dab383e7",
   "metadata": {},
   "outputs": [],
   "source": [
    "import pandas as pd\n",
    "import numpy as np\n",
    "import matplotlib.pyplot as plt"
   ]
  },
  {
   "cell_type": "markdown",
   "id": "3175a2b6",
   "metadata": {},
   "source": [
    "### Loading & Splitting the dataset"
   ]
  },
  {
   "cell_type": "code",
   "execution_count": 14,
   "id": "5513cb0c",
   "metadata": {},
   "outputs": [],
   "source": [
    "df = pd.read_csv(\"California_Houses.csv\")\n",
    "train_data_size = int(0.7 * len(df))\n",
    "validation_data_size = int(0.15 * len(df))\n",
    "test_data_size = len(df) - train_data_size - validation_data_size\n",
    "\n",
    "train_data = df[:train_data_size]\n",
    "validation_data = df[train_data_size:train_data_size + validation_data_size]\n",
    "test_data = df[train_data_size + validation_data_size:]"
   ]
  },
  {
   "cell_type": "markdown",
   "id": "04a0d4fd",
   "metadata": {},
   "source": [
    "### Extracting features matrix & Target Vector"
   ]
  },
  {
   "cell_type": "code",
   "execution_count": 15,
   "id": "739ed9f4",
   "metadata": {},
   "outputs": [
    {
     "name": "stdout",
     "output_type": "stream",
     "text": [
      "[[ 1.00000000e+00  8.32520000e+00  4.10000000e+01  8.80000000e+02\n",
      "   1.29000000e+02  3.22000000e+02  1.26000000e+02  3.78800000e+01\n",
      "  -1.22230000e+02  9.26304077e+03  5.56529158e+05  7.35501807e+05\n",
      "   6.74325170e+04]\n",
      " [ 1.00000000e+00  8.30140000e+00  2.10000000e+01  7.09900000e+03\n",
      "   1.10600000e+03  2.40100000e+03  1.13800000e+03  3.78600000e+01\n",
      "  -1.22220000e+02  1.02257331e+04  5.54279850e+05  7.33236884e+05\n",
      "   6.50499086e+04]\n",
      " [ 1.00000000e+00  7.25740000e+00  5.20000000e+01  1.46700000e+03\n",
      "   1.90000000e+02  4.96000000e+02  1.77000000e+02  3.78500000e+01\n",
      "  -1.22240000e+02  8.25908511e+03  5.54610717e+05  7.33525683e+05\n",
      "   6.48672898e+04]\n",
      " [ 1.00000000e+00  5.64310000e+00  5.20000000e+01  1.27400000e+03\n",
      "   2.35000000e+02  5.58000000e+02  2.19000000e+02  3.78500000e+01\n",
      "  -1.22250000e+02  7.76808657e+03  5.55194266e+05  7.34095291e+05\n",
      "   6.52871384e+04]\n",
      " [ 1.00000000e+00  3.84620000e+00  5.20000000e+01  1.62700000e+03\n",
      "   2.80000000e+02  5.65000000e+02  2.59000000e+02  3.78500000e+01\n",
      "  -1.22250000e+02  7.76808657e+03  5.55194266e+05  7.34095291e+05\n",
      "   6.52871384e+04]]\n",
      "0    452600.0\n",
      "1    358500.0\n",
      "2    352100.0\n",
      "3    341300.0\n",
      "4    342200.0\n",
      "Name: Median_House_Value, dtype: float64\n"
     ]
    }
   ],
   "source": [
    "X = train_data.iloc[:, 1:13]\n",
    "T = train_data.iloc[:, 0]\n",
    "X_vectors = {}\n",
    "for col in X.columns:\n",
    "    X_vectors[col] = X[col].values.reshape(-1, 1)\n",
    "\n",
    "X_matrix = np.hstack(list(X_vectors.values()))\n",
    "\n",
    "n_samples = X_matrix.shape[0]\n",
    "X_matrix = np.hstack((np.ones((n_samples, 1)), X_matrix))\n",
    "\n",
    "print(X_matrix[0:5 , :])\n",
    "print(T.head())"
   ]
  },
  {
   "cell_type": "markdown",
   "id": "bc83c570",
   "metadata": {},
   "source": [
    "## Model Design and caclulating W*"
   ]
  },
  {
   "cell_type": "markdown",
   "id": "e3a7bcea",
   "metadata": {},
   "source": [
    "$w^* = (X^{\\top} X)^{-1} (X^{\\top} T)$."
   ]
  },
  {
   "cell_type": "code",
   "execution_count": 16,
   "id": "ab114acd",
   "metadata": {},
   "outputs": [],
   "source": [
    "left_term = np.linalg.inv(X_matrix.T @ X_matrix)\n",
    "right_term = X_matrix.T @ T.values\n",
    "W_star = left_term @ right_term"
   ]
  }
 ],
 "metadata": {
  "kernelspec": {
   "display_name": "Python 3",
   "language": "python",
   "name": "python3"
  },
  "language_info": {
   "codemirror_mode": {
    "name": "ipython",
    "version": 3
   },
   "file_extension": ".py",
   "mimetype": "text/x-python",
   "name": "python",
   "nbconvert_exporter": "python",
   "pygments_lexer": "ipython3",
   "version": "3.12.6"
  }
 },
 "nbformat": 4,
 "nbformat_minor": 5
}
