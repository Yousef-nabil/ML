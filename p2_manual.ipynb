{
 "cells": [
  {
   "cell_type": "markdown",
   "id": "7439bdf0",
   "metadata": {},
   "source": [
    "# Manual Implementation of Problem 2 (Regression)"
   ]
  },
  {
   "cell_type": "markdown",
   "id": "73f866dc",
   "metadata": {},
   "source": [
    "## Importing Libraries"
   ]
  },
  {
   "cell_type": "code",
   "id": "d7dfbd2a",
   "metadata": {
    "ExecuteTime": {
     "end_time": "2025-10-19T18:22:52.090962Z",
     "start_time": "2025-10-19T18:22:52.085316Z"
    }
   },
   "source": [
    "import pandas as pd\n",
    "import numpy as np\n",
    "import matplotlib.pyplot as plt"
   ],
   "outputs": [],
   "execution_count": 13
  },
  {
   "cell_type": "markdown",
   "id": "7d343f42",
   "metadata": {},
   "source": [
    "## Setting up the data\n"
   ]
  },
  {
   "cell_type": "markdown",
   "id": "787373f0",
   "metadata": {},
   "source": [
    "### Loading and splitting dataset"
   ]
  },
  {
   "cell_type": "code",
   "id": "2f39165c",
   "metadata": {
    "ExecuteTime": {
     "end_time": "2025-10-19T18:22:52.146352Z",
     "start_time": "2025-10-19T18:22:52.109664Z"
    }
   },
   "source": [
    "df = pd.read_csv(\"California_Houses.csv\")\n",
    "\n",
    "df = df.sample(frac=1, random_state=42).reset_index(drop=True)\n",
    "\n",
    "print(df.isna().sum())\n",
    "\n",
    "train_data_size = int(0.7 * len(df))\n",
    "validation_data_size = int(0.15 * len(df))\n",
    "test_data_size = len(df) - train_data_size - validation_data_size\n",
    "\n",
    "train_data = df[:train_data_size]\n",
    "validation_data = df[train_data_size:train_data_size + validation_data_size]\n",
    "test_data = df[train_data_size + validation_data_size:]"
   ],
   "outputs": [
    {
     "name": "stdout",
     "output_type": "stream",
     "text": [
      "Median_House_Value          0\n",
      "Median_Income               0\n",
      "Median_Age                  0\n",
      "Tot_Rooms                   0\n",
      "Tot_Bedrooms                0\n",
      "Population                  0\n",
      "Households                  0\n",
      "Latitude                    0\n",
      "Longitude                   0\n",
      "Distance_to_coast           0\n",
      "Distance_to_LA              0\n",
      "Distance_to_SanDiego        0\n",
      "Distance_to_SanJose         0\n",
      "Distance_to_SanFrancisco    0\n",
      "dtype: int64\n"
     ]
    }
   ],
   "execution_count": 14
  },
  {
   "cell_type": "markdown",
   "id": "cd0aeedf",
   "metadata": {},
   "source": [
    "### Extracting features matrix & Target Vector"
   ]
  },
  {
   "cell_type": "code",
   "id": "c0b2d62f",
   "metadata": {
    "ExecuteTime": {
     "end_time": "2025-10-19T18:22:52.172077Z",
     "start_time": "2025-10-19T18:22:52.161753Z"
    }
   },
   "source": [
    "x = train_data.iloc[:, 1:13]\n",
    "t = train_data.iloc[:, 0]\n",
    "\n",
    "X_vectors = {}\n",
    "for col in x.columns:\n",
    "    X_vectors[col] = x[col].values.reshape(-1, 1)\n",
    "\n",
    "X = np.hstack(list(X_vectors.values()))\n",
    "T = t.values.flatten()\n",
    "\n",
    "\n",
    "X_mean = np.mean(X, axis=0)\n",
    "X_std = np.std(X, axis=0)\n",
    "X_scaled = (X - X_mean) / X_std\n",
    "\n",
    "n_samples = X.shape[0]\n",
    "X_biased = np.hstack((np.ones((n_samples, 1)), X_scaled))"
   ],
   "outputs": [],
   "execution_count": 15
  },
  {
   "cell_type": "markdown",
   "id": "2175b2de",
   "metadata": {},
   "source": [
    "## Linear Regression Models"
   ]
  },
  {
   "cell_type": "markdown",
   "id": "8f25ff59",
   "metadata": {},
   "source": [
    "### Direct matrix Solution"
   ]
  },
  {
   "cell_type": "markdown",
   "id": "b5493074",
   "metadata": {},
   "source": [
    "$w^* = (X^{\\top} X)^{-1} (X^{\\top} T)$."
   ]
  },
  {
   "cell_type": "code",
   "id": "44259056",
   "metadata": {
    "ExecuteTime": {
     "end_time": "2025-10-19T18:22:52.219890Z",
     "start_time": "2025-10-19T18:22:52.215504Z"
    }
   },
   "source": [
    "left_term = np.linalg.inv(X_biased.T @ X_biased)\n",
    "right_term = X_biased.T @ T\n",
    "W_star = left_term @ right_term\n",
    "print(\"Learned Weights:\", W_star)"
   ],
   "outputs": [
    {
     "name": "stdout",
     "output_type": "stream",
     "text": [
      "Learned Weights: [207183.64947739  73339.23718052  11390.78283316  -9813.07726714\n",
      "  39003.27192159 -50396.58892998  25030.66297081 -91070.56192613\n",
      " -58463.20851428 -12788.39669392 -34720.70712485  68437.02098175\n",
      "   7981.2671976 ]\n"
     ]
    }
   ],
   "execution_count": 16
  },
  {
   "cell_type": "markdown",
   "id": "5b2e84a8",
   "metadata": {},
   "source": [
    "### Gradient Descent"
   ]
  },
  {
   "cell_type": "code",
   "id": "1ac9fa52",
   "metadata": {
    "ExecuteTime": {
     "end_time": "2025-10-19T18:23:49.844370Z",
     "start_time": "2025-10-19T18:22:52.268189Z"
    }
   },
   "source": [
    "w_gradient = np.zeros(X.shape[1])\n",
    "b = 0.0\n",
    "alpha = 0.01\n",
    "N = len(T)\n",
    "max_iter = 10000000\n",
    "i = 0\n",
    "\n",
    "while True:\n",
    "    y = np.dot(X_scaled, w_gradient) + b\n",
    "    dw = (1/N) * np.dot(X_scaled.T, (y - T))\n",
    "    db = (1/N) * np.sum(y - T)\n",
    "\n",
    "    temp_w = w_gradient - alpha * dw\n",
    "    temp_b = b - alpha * db\n",
    "\n",
    "    if (np.sum(np.abs(temp_w - w_gradient)) < 1e-3 and abs(temp_b - b) < 1e-3):\n",
    "        break\n",
    "\n",
    "    \n",
    "    w_gradient = temp_w\n",
    "    b = temp_b\n",
    "    i+=1\n",
    "    if i >= max_iter:\n",
    "        print(\"Stopped: reached maximum iterations without full convergence\")\n",
    "        break\n",
    "\n",
    "print(\"Learned Weights using Gradient Descent:\", np.hstack((b, w_gradient)))"
   ],
   "outputs": [
    {
     "name": "stdout",
     "output_type": "stream",
     "text": [
      "Learned Weights using Gradient Descent: [207183.64947739  73339.26283801  11390.84621904  -9813.26425025\n",
      "  39004.27702662 -50396.39066188  25029.65362835 -91055.64221427\n",
      " -58467.87257439 -12788.68906468 -34718.63853906  68415.11508797\n",
      "   7980.48882297]\n"
     ]
    }
   ],
   "execution_count": 17
  },
  {
   "cell_type": "markdown",
   "id": "bb245328",
   "metadata": {},
   "source": [
    "## Validating Linear Regression Models "
   ]
  },
  {
   "cell_type": "markdown",
   "id": "ed0558a0",
   "metadata": {},
   "source": [
    "### Applying model on validation dataset"
   ]
  },
  {
   "cell_type": "code",
   "id": "b1649a82",
   "metadata": {
    "ExecuteTime": {
     "end_time": "2025-10-19T18:23:49.864084Z",
     "start_time": "2025-10-19T18:23:49.858423Z"
    }
   },
   "source": [
    "x_val = validation_data.iloc[:, 1:13]\n",
    "t_val = validation_data.iloc[:, 0]\n",
    "# For gradient descent solution\n",
    "x_val_scaled = (x_val - X_mean) / X_std\n",
    "# For closed-form solution\n",
    "x_val_biased = np.hstack((np.ones((x_val_scaled.shape[0], 1)), x_val_scaled))\n",
    "\n",
    "y_val_closed_form = x_val_biased @ W_star\n",
    "y_val_gradient = np.dot(x_val_scaled, w_gradient) + b"
   ],
   "outputs": [],
   "execution_count": 18
  },
  {
   "cell_type": "markdown",
   "id": "5a6913df",
   "metadata": {},
   "source": [
    "### Error metrics"
   ]
  },
  {
   "cell_type": "code",
   "id": "b7458cc5",
   "metadata": {
    "ExecuteTime": {
     "end_time": "2025-10-19T18:23:49.923167Z",
     "start_time": "2025-10-19T18:23:49.914773Z"
    }
   },
   "source": [
    "mse_closed_val = np.mean((y_val_closed_form - t_val.values.flatten())**2)\n",
    "mse_gradient_val = np.mean((y_val_gradient - t_val.values.flatten())**2)\n",
    "print(\"Validation MSE (Closed-form):\", mse_closed_val)\n",
    "print(\"Validation MSE (Gradient Descent):\", mse_gradient_val)\n",
    "\n",
    "mae_closed_val = np.mean(np.abs(y_val_closed_form - t_val.values.flatten()))\n",
    "mae_gradient_val = np.mean(np.abs(y_val_gradient - t_val.values.flatten()))\n",
    "print(\"Validation MAE (Closed-form):\", mae_closed_val)\n",
    "print(\"Validation MAE (Gradient Descent):\", mae_gradient_val)"
   ],
   "outputs": [
    {
     "name": "stdout",
     "output_type": "stream",
     "text": [
      "Validation MSE (Closed-form): 4583009571.727016\n",
      "Validation MSE (Gradient Descent): 4583014310.061426\n",
      "Validation MAE (Closed-form): 49752.37648772887\n",
      "Validation MAE (Gradient Descent): 49752.44960336029\n"
     ]
    }
   ],
   "execution_count": 19
  },
  {
   "cell_type": "markdown",
   "id": "47e4b38b",
   "metadata": {},
   "source": [
    "## Testing Linear Regression models"
   ]
  },
  {
   "cell_type": "markdown",
   "id": "a5d42923",
   "metadata": {},
   "source": [
    "### Applying test data"
   ]
  },
  {
   "cell_type": "code",
   "id": "04b49d4e",
   "metadata": {
    "ExecuteTime": {
     "end_time": "2025-10-19T18:23:49.983904Z",
     "start_time": "2025-10-19T18:23:49.972471Z"
    }
   },
   "source": [
    "x_test = test_data.iloc[:, 1:13]\n",
    "t_test = test_data.iloc[:, 0]\n",
    "\n",
    "# For gradient descent solution\n",
    "x_test_scaled = (x_test - X_mean) / X_std\n",
    "\n",
    "# For closed-form solution\n",
    "x_test_biased = np.hstack((np.ones((x_test_scaled.shape[0], 1)), x_test_scaled))\n",
    "\n",
    "y_test_closed_form = x_test_biased @ W_star\n",
    "y_test_gradient = np.dot(x_test_scaled, w_gradient) + b"
   ],
   "outputs": [],
   "execution_count": 20
  },
  {
   "cell_type": "markdown",
   "id": "21209994",
   "metadata": {},
   "source": [
    "### Error Metrics"
   ]
  },
  {
   "cell_type": "code",
   "id": "512d8c45",
   "metadata": {
    "ExecuteTime": {
     "end_time": "2025-10-19T18:23:50.039195Z",
     "start_time": "2025-10-19T18:23:50.031622Z"
    }
   },
   "source": [
    "mse_closed_val = np.mean((y_test_closed_form - t_test.values.flatten())**2)\n",
    "mse_gradient_val = np.mean((y_test_gradient - t_test.values.flatten())**2)\n",
    "print(\"Test MSE (Closed-form):\", mse_closed_val)\n",
    "print(\"Test MSE (Gradient Descent):\", mse_gradient_val)\n",
    "\n",
    "mae_closed_val = np.mean(np.abs(y_test_closed_form - t_test.values.flatten()))\n",
    "mae_gradient_val = np.mean(np.abs(y_test_gradient - t_test.values.flatten()))\n",
    "print(\"Test MAE (Closed-form):\", mae_closed_val)\n",
    "print(\"Test MAE (Gradient Descent):\", mae_gradient_val)"
   ],
   "outputs": [
    {
     "name": "stdout",
     "output_type": "stream",
     "text": [
      "Test MSE (Closed-form): 5132832734.377795\n",
      "Test MSE (Gradient Descent): 5132826617.13569\n",
      "Test MAE (Closed-form): 50984.58060566474\n",
      "Test MAE (Gradient Descent): 50984.555152254594\n"
     ]
    }
   ],
   "execution_count": 21
  },
  {
   "cell_type": "markdown",
   "id": "1bf5f203",
   "metadata": {},
   "source": [
    "## Ridge Regression (L2 Regularization)"
   ]
  },
  {
   "cell_type": "markdown",
   "id": "4dfe48fe",
   "metadata": {},
   "source": [
    "### Applying model"
   ]
  },
  {
   "cell_type": "code",
   "id": "1d5faaf0",
   "metadata": {
    "ExecuteTime": {
     "end_time": "2025-10-19T18:23:50.122403Z",
     "start_time": "2025-10-19T18:23:50.092098Z"
    }
   },
   "source": [
    "X_biased_scaled = np.hstack((np.ones((X_scaled.shape[0], 1)), X_scaled))\n",
    "I = np.identity(X_biased_scaled.shape[1])\n",
    "I[0, 0] = 0 \n",
    "lambda_values = [0.001 , 0.01 , 0.1, 1, 10, 100]\n",
    "mse_ridge_val = []\n",
    "mae_ridge_val = []\n",
    "w_ridge_array = []\n",
    "for lambda_reg in lambda_values:\n",
    "    penalty = lambda_reg * I\n",
    "    w_ridge = np.linalg.inv(X_biased_scaled.T @ X_biased_scaled + penalty) @ X_biased_scaled.T @ T\n",
    "    w_ridge_array.append(w_ridge)\n",
    "    y_ridge = X_biased_scaled @ w_ridge\n",
    "    mse_ridge = np.mean((y_ridge - T)**2)\n",
    "    mae_ridge = np.mean(np.abs(y_ridge - T))\n",
    "    mse_ridge_val.append(mse_ridge)\n",
    "    mae_ridge_val.append(mae_ridge)\n",
    "    print(f\"Ridge Regression (lambda={lambda_reg}): Validation MSE: {mse_ridge}, MAE: {mae_ridge}\")\n",
    "best_lambda_index = np.argmin(mse_ridge_val)\n",
    "best_lambda = lambda_values[best_lambda_index]\n",
    "best_w_ridge = w_ridge_array[best_lambda_index]\n",
    "print(\"Best lambda value for Ridge Regression:\", best_lambda)\n",
    "print(\"Weights for best Ridge Regression model:\", best_w_ridge)\n"
   ],
   "outputs": [
    {
     "name": "stdout",
     "output_type": "stream",
     "text": [
      "Ridge Regression (lambda=0.001): Validation MSE: 4660061242.670988, MAE: 49736.20805694374\n",
      "Ridge Regression (lambda=0.01): Validation MSE: 4660061245.024602, MAE: 49736.253894102905\n",
      "Ridge Regression (lambda=0.1): Validation MSE: 4660061479.106193, MAE: 49736.71112353578\n",
      "Ridge Regression (lambda=1): Validation MSE: 4660083666.392348, MAE: 49741.28282084996\n",
      "Ridge Regression (lambda=10): Validation MSE: 4661489318.298814, MAE: 49788.46663985994\n",
      "Ridge Regression (lambda=100): Validation MSE: 4683502632.555589, MAE: 50092.73560398771\n",
      "Best lambda value for Ridge Regression: 0.001\n",
      "Weights for best Ridge Regression model: [207183.64947739  73339.22739798  11390.79194217  -9813.06358405\n",
      "  39003.30943989 -50396.55016377  25030.57476307 -91068.64171939\n",
      " -58463.49905727 -12788.49642211 -34720.46616342  68434.47958764\n",
      "   7981.10325011]\n"
     ]
    }
   ],
   "execution_count": 22
  },
  {
   "cell_type": "markdown",
   "id": "7c5b8a57",
   "metadata": {},
   "source": [
    "### Using best lambda on validation and test data"
   ]
  },
  {
   "cell_type": "code",
   "id": "a8d3f80b",
   "metadata": {
    "ExecuteTime": {
     "end_time": "2025-10-19T18:23:50.190292Z",
     "start_time": "2025-10-19T18:23:50.173269Z"
    }
   },
   "source": [
    "y_val_best_ridge = x_val_biased @ best_w_ridge\n",
    "mse_best_ridge = np.mean((y_val_best_ridge - t_val.values.flatten())**2)\n",
    "mae_best_ridge = np.mean(np.abs(y_val_best_ridge - t_val.values.flatten()))\n",
    "print(\"Validation MSE for best Ridge Regression model:\", mse_best_ridge)\n",
    "print(\"Validation MAE for best Ridge Regression model:\", mae_best_ridge)"
   ],
   "outputs": [
    {
     "name": "stdout",
     "output_type": "stream",
     "text": [
      "Validation MSE for best Ridge Regression model: 4583010041.349514\n",
      "Validation MAE for best Ridge Regression model: 49752.38622248577\n"
     ]
    }
   ],
   "execution_count": 23
  },
  {
   "cell_type": "code",
   "id": "7964bf87",
   "metadata": {
    "ExecuteTime": {
     "end_time": "2025-10-19T18:23:50.246570Z",
     "start_time": "2025-10-19T18:23:50.238220Z"
    }
   },
   "source": [
    "y_test_best_ridge = x_test_biased @ best_w_ridge\n",
    "mse_test_best_ridge = np.mean((y_test_best_ridge - t_test.values.flatten())**2)\n",
    "mae_test_best_ridge = np.mean(np.abs(y_test_best_ridge - t_test.values.flatten()))\n",
    "print(\"Test MSE for best Ridge Regression model:\", mse_test_best_ridge)\n",
    "print(\"Test MAE for best Ridge Regression model:\", mae_test_best_ridge)\n"
   ],
   "outputs": [
    {
     "name": "stdout",
     "output_type": "stream",
     "text": [
      "Test MSE for best Ridge Regression model: 5132831663.097724\n",
      "Test MAE for best Ridge Regression model: 50984.5780897816\n"
     ]
    }
   ],
   "execution_count": 24
  },
  {
   "cell_type": "markdown",
   "id": "ca8e7aa1",
   "metadata": {},
   "source": [
    "# Final Comment : The dataset doesn't need a L2 Regularization as it can be solved using only Linear regression due to high correlation of data. Speaking of direct solution vs. Gradient descent techniques , we can observe that they are quite similar thanks to the small learning rate of the model. We can shrink it more to gain even smaller gap between them."
   ]
  }
 ],
 "metadata": {
  "kernelspec": {
   "display_name": "Python 3",
   "language": "python",
   "name": "python3"
  },
  "language_info": {
   "codemirror_mode": {
    "name": "ipython",
    "version": 3
   },
   "file_extension": ".py",
   "mimetype": "text/x-python",
   "name": "python",
   "nbconvert_exporter": "python",
   "pygments_lexer": "ipython3",
   "version": "3.12.6"
  }
 },
 "nbformat": 4,
 "nbformat_minor": 5
}
