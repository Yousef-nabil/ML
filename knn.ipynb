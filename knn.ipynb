{
 "cells": [
  {
   "cell_type": "markdown",
   "id": "f666467d",
   "metadata": {},
   "source": [
    "# K-Nearest Neighbors (KNN) Classification Project\n",
    "\n",
    "This notebook implements and compares **Manual KNN** and **Scikit-Learn KNN** models  \n",
    "on the *Telescope Dataset*. The main objectives are:\n",
    "- Balance the dataset.\n",
    "- Split the data into training, validation, and test sets.\n",
    "- Implement KNN manually and using Scikit-Learn.\n",
    "- Compare performance across different k values.\n",
    "- Evaluate the final model on the test set.\n"
   ]
  },
  {
   "cell_type": "code",
   "id": "ffc0d905",
   "metadata": {
    "ExecuteTime": {
     "end_time": "2025-10-19T18:14:32.275943Z",
     "start_time": "2025-10-19T18:13:57.774500Z"
    }
   },
   "source": [
    "\n",
    "import numpy as np\n",
    "import pandas as pd\n",
    "import matplotlib.pyplot as plt\n",
    "from sklearn.model_selection import train_test_split\n",
    "from sklearn.neighbors import KNeighborsClassifier\n",
    "from sklearn.metrics import accuracy_score, precision_score, recall_score, f1_score, confusion_matrix\n",
    "\n",
    "\n",
    "data = pd.read_csv(\"telescope_data.csv\")\n",
    "gamma = data[data['class'] == 'g']\n",
    "hydron = data[data['class'] == 'h']\n",
    "# Randomly undersample the majority class (gamma) to match hydron\n",
    "gamma_balanced = gamma.sample(len(hydron), random_state=42)\n",
    "\n",
    "data_balanced = pd.concat([gamma_balanced, hydron])\n",
    "data_balanced = data_balanced.drop(columns=['Unnamed: 0'])\n",
    "#split the dataset\n",
    "features= data_balanced.drop(columns=['class'])\n",
    "labels = data_balanced['class']\n",
    "\n",
    "features_train, features_temp, labels_train, labels_temp = train_test_split(\n",
    "    features, labels, test_size=0.3, random_state=42\n",
    ")\n",
    "features_val, features_test, labels_val, labels_test = train_test_split(\n",
    "    features_temp, labels_temp, test_size=0.5, random_state=42\n",
    ")\n",
    "\n",
    "#Apply K-NN Classifier to the data Manually\n",
    "def knn_predict_manually(features_train, labels_train, test, k):\n",
    "    features_train_np = features_train.to_numpy()\n",
    "    labels_train_np = labels_train.to_numpy()\n",
    "    test_np = test.to_numpy()\n",
    "\n",
    "    predictions = []\n",
    "    for test_point in test_np:\n",
    "        distances = np.sqrt(np.sum ((features_train_np - test_point) ** 2, axis=1))\n",
    "        k_indices = np.argsort(distances)[:k]\n",
    "        k_labels = labels_train_np[k_indices]\n",
    "        values, counts = np.unique(k_labels, return_counts=True)\n",
    "        predictions.append(values[np.argmax(counts)])\n",
    "\n",
    "    return np.array(predictions)\n",
    "\n",
    " #Apply different k values to get the best results in both cases\n",
    "k_values = [1, 5,10,15,20,30,40, 50,70, 150, 500, 900, 1200,2000,3000,4500,6000,7500]\n",
    "accuracies_sklearn = []\n",
    "accuracies_manual = []\n",
    "\n",
    "for k in k_values:\n",
    "    y_val_pred = knn_predict_manually(features_train, labels_train, features_val, k)\n",
    "    acc = accuracy_score(labels_val, y_val_pred)\n",
    "    accuracies_manual.append(acc)\n",
    "    print(f\"Manual KNN Accuracy with k={k}: {acc:.4f}\")\n",
    "print(\"\\n\")\n",
    "#apply K-NN Classifier to the data by using Scikit-Learn.\n",
    "for k in k_values:\n",
    "    knn = KNeighborsClassifier(n_neighbors=k)\n",
    "    knn.fit(features_train, labels_train)\n",
    "    y_val_pred = knn.predict(features_val)\n",
    "    acc = accuracy_score(labels_val, y_val_pred)\n",
    "    accuracies_sklearn.append(acc)\n",
    "    print(f\"Scikit-Learn KNN Accuracy with k={k}: {acc:.4f}\")"
   ],
   "outputs": [
    {
     "name": "stdout",
     "output_type": "stream",
     "text": [
      "Manual KNN Accuracy with k=1: 0.7473\n",
      "Manual KNN Accuracy with k=5: 0.7612\n",
      "Manual KNN Accuracy with k=10: 0.7622\n",
      "Manual KNN Accuracy with k=15: 0.7667\n",
      "Manual KNN Accuracy with k=20: 0.7647\n",
      "Manual KNN Accuracy with k=30: 0.7637\n",
      "Manual KNN Accuracy with k=40: 0.7662\n",
      "Manual KNN Accuracy with k=50: 0.7662\n",
      "Manual KNN Accuracy with k=70: 0.7647\n",
      "Manual KNN Accuracy with k=150: 0.7592\n",
      "Manual KNN Accuracy with k=500: 0.7293\n",
      "Manual KNN Accuracy with k=900: 0.7159\n",
      "Manual KNN Accuracy with k=1200: 0.7044\n",
      "Manual KNN Accuracy with k=2000: 0.6720\n",
      "Manual KNN Accuracy with k=3000: 0.6505\n",
      "Manual KNN Accuracy with k=4500: 0.5837\n",
      "Manual KNN Accuracy with k=6000: 0.5603\n",
      "Manual KNN Accuracy with k=7500: 0.5364\n",
      "\n",
      "\n",
      "Scikit-Learn KNN Accuracy with k=1: 0.7473\n",
      "Scikit-Learn KNN Accuracy with k=5: 0.7612\n",
      "Scikit-Learn KNN Accuracy with k=10: 0.7622\n",
      "Scikit-Learn KNN Accuracy with k=15: 0.7667\n",
      "Scikit-Learn KNN Accuracy with k=20: 0.7647\n",
      "Scikit-Learn KNN Accuracy with k=30: 0.7637\n",
      "Scikit-Learn KNN Accuracy with k=40: 0.7662\n",
      "Scikit-Learn KNN Accuracy with k=50: 0.7662\n",
      "Scikit-Learn KNN Accuracy with k=70: 0.7647\n",
      "Scikit-Learn KNN Accuracy with k=150: 0.7592\n",
      "Scikit-Learn KNN Accuracy with k=500: 0.7293\n",
      "Scikit-Learn KNN Accuracy with k=900: 0.7159\n",
      "Scikit-Learn KNN Accuracy with k=1200: 0.7044\n",
      "Scikit-Learn KNN Accuracy with k=2000: 0.6720\n",
      "Scikit-Learn KNN Accuracy with k=3000: 0.6505\n",
      "Scikit-Learn KNN Accuracy with k=4500: 0.5837\n",
      "Scikit-Learn KNN Accuracy with k=6000: 0.5603\n",
      "Scikit-Learn KNN Accuracy with k=7500: 0.5364\n"
     ]
    }
   ],
   "execution_count": 27
  },
  {
   "cell_type": "markdown",
   "id": "a14d4a80",
   "metadata": {},
   "source": [
    "## Validation Accuracy vs K\n",
    "\n",
    "In this section, we compare the Manual KNN implementation and the Scikit-Learn KNN\n",
    "implementation using different `k` values.\n",
    "\n",
    "- Small `k` values cause overfitting (the model memorizes data).\n",
    "- Large `k` values cause underfitting (the model becomes too simple).\n",
    "- The goal is to find the optimal k that gives the best validation accuracy.\n"
   ]
  },
  {
   "cell_type": "code",
   "id": "b38c538c",
   "metadata": {
    "ExecuteTime": {
     "end_time": "2025-10-19T18:14:32.396872Z",
     "start_time": "2025-10-19T18:14:32.284428Z"
    }
   },
   "source": [
    "#Plot validation accuracy vs.k values for both implementations\n",
    "plt.plot(k_values, accuracies_manual, marker='o', label='Manual KNN', color='blue')\n",
    "plt.plot(k_values, accuracies_sklearn, marker='s', label='Scikit-Learn KNN', color='orange', linestyle='--')\n",
    "plt.title(\"Validation Accuracy vs K (Manual vs Scikit-Learn)\")\n",
    "plt.xlabel(\"k (Number of Neighbors)\")\n",
    "plt.ylabel(\"Validation Accuracy\")\n",
    "plt.legend()\n",
    "plt.grid(True)\n",
    "plt.show()\n",
    "\n",
    "# Identify best k\n",
    "best_k_manual = k_values[np.argmax(accuracies_manual)]\n",
    "best_k_sklearn = k_values[np.argmax(accuracies_sklearn)]\n",
    "\n",
    "\n",
    "print(\"Best k (Manual KNN):\", best_k_manual)\n",
    "print(\"Best k (Sklearn KNN):\", best_k_sklearn)"
   ],
   "outputs": [
    {
     "data": {
      "text/plain": [
       "<Figure size 640x480 with 1 Axes>"
      ],
      "image/png": "[encoded data removed]"
     },
     "metadata": {},
     "output_type": "display_data",
     "jetTransient": {
      "display_id": null
     }
    },
    {
     "name": "stdout",
     "output_type": "stream",
     "text": [
      "Best k (Manual KNN): 15\n",
      "Best k (Sklearn KNN): 15\n"
     ]
    }
   ],
   "execution_count": 28
  },
  {
   "cell_type": "code",
   "id": "ff8a0a6a",
   "metadata": {
    "ExecuteTime": {
     "end_time": "2025-10-19T18:14:33.323391Z",
     "start_time": "2025-10-19T18:14:32.405425Z"
    }
   },
   "source": [
    "# calculate accuracy, precision, recall, f1-score, and confusion matrix on the test set for both implementations\n",
    "\n",
    "# Combine train + val\n",
    "X_trainval = pd.concat([features_train, features_val], ignore_index=True)\n",
    "y_trainval = pd.concat([labels_train, labels_val], ignore_index=True)\n",
    "\n",
    "# Manual KNN  Test\n",
    "y_test_pred_manual = knn_predict_manually(X_trainval, y_trainval, features_test, best_k_manual)\n",
    "acc1 = accuracy_score(labels_test, y_test_pred_manual)\n",
    "prec1 = precision_score(labels_test, y_test_pred_manual, pos_label='g') \n",
    "rec1 = recall_score(labels_test, y_test_pred_manual, pos_label='g')\n",
    "f1_1 = f1_score(labels_test, y_test_pred_manual, pos_label='g')\n",
    "cm1 = confusion_matrix(labels_test, y_test_pred_manual)\n",
    "\n",
    "\n",
    "print(\"\\n ----- Manual KNN------ \")\n",
    "print(f\"Best k = {best_k_manual}\")\n",
    "print(\"Accuracy:\", acc1)\n",
    "print(\"Precision:\", prec1)\n",
    "print(\"Recall:\", rec1)\n",
    "print(\"F1-score:\", f1_1)\n",
    "print(\"Confusion Matrix:\\n\", cm1)\n",
    "\n",
    "\n",
    "\n",
    "# Scikit-Learn KNN  Test\n",
    "knn_final = KNeighborsClassifier(n_neighbors=best_k_sklearn)\n",
    "knn_final.fit(X_trainval, y_trainval)\n",
    "y_test_pred_sklearn = knn_final.predict(features_test)\n",
    "\n",
    "acc2 = accuracy_score(labels_test, y_test_pred_sklearn)\n",
    "prec2 = precision_score(labels_test, y_test_pred_sklearn, pos_label='g') \n",
    "rec2 = recall_score(labels_test, y_test_pred_sklearn, pos_label='g')\n",
    "f1_2 = f1_score(labels_test, y_test_pred_sklearn, pos_label='g')\n",
    "cm2 = confusion_matrix(labels_test, y_test_pred_sklearn)\n",
    "\n",
    "\n",
    "print(\"  ------ Scikit-Learn KNN-------- \")\n",
    "print(f\"Best k = {best_k_sklearn}\")\n",
    "\n",
    "print(\"Accuracy:\", acc2)\n",
    "print(\"Precision:\", prec2)\n",
    "print(\"Recall:\", rec2)\n",
    "print(\"F1-score:\", f1_2)\n",
    "print(\"Confusion Matrix:\\n\", cm2)\n",
    "\n"
   ],
   "outputs": [
    {
     "name": "stdout",
     "output_type": "stream",
     "text": [
      "\n",
      " ----- Manual KNN------ \n",
      "Best k = 15\n",
      "Accuracy: 0.7568510214250125\n",
      "Precision: 0.7171381031613977\n",
      "Recall: 0.8534653465346534\n",
      "F1-score: 0.779385171790235\n",
      "Confusion Matrix:\n",
      " [[862 148]\n",
      " [340 657]]\n",
      "  ------ Scikit-Learn KNN-------- \n",
      "Best k = 15\n",
      "Accuracy: 0.7568510214250125\n",
      "Precision: 0.7171381031613977\n",
      "Recall: 0.8534653465346534\n",
      "F1-score: 0.779385171790235\n",
      "Confusion Matrix:\n",
      " [[862 148]\n",
      " [340 657]]\n"
     ]
    }
   ],
   "execution_count": 29
  },
  {
   "cell_type": "markdown",
   "id": "e1ee12ce",
   "metadata": {},
   "source": [
    "## Summary \n",
    "\n",
    "- Both Manual and Scikit-Learn KNN achieved very similar results.\n",
    "- The optimal k was found by maximizing the validation accuracy.\n",
    "- For small `k` values (like 5), the model performs very well but may slightly overfit.\n",
    "- For large `k` values, the model generalizes more but loses accuracy.\n",
    "- The test set results confirm that both implementations are correct and consistent.\n"
   ]
  }
 ],
 "metadata": {
  "kernelspec": {
   "display_name": "Python 3",
   "language": "python",
   "name": "python3"
  },
  "language_info": {
   "codemirror_mode": {
    "name": "ipython",
    "version": 3
   },
   "file_extension": ".py",
   "mimetype": "text/x-python",
   "name": "python",
   "nbconvert_exporter": "python",
   "pygments_lexer": "ipython3",
   "version": "3.13.2"
  }
 },
 "nbformat": 4,
 "nbformat_minor": 5
}
